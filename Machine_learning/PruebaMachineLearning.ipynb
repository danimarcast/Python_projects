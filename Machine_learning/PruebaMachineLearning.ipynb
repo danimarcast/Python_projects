{
 "cells": [
  {
   "cell_type": "code",
   "execution_count": 14,
   "metadata": {},
   "outputs": [
    {
     "data": {
      "text/plain": [
       "['deportes_ml.joblib']"
      ]
     },
     "execution_count": 14,
     "metadata": {},
     "output_type": "execute_result"
    }
   ],
   "source": [
    "import pandas as pd\n",
    "import numpy as np\n",
    "import joblib\n",
    "dataset=pd.read_csv('deportes.csv')\n",
    "inputs=dataset.drop(columns=[\"deporte\"])\n",
    "outputs=dataset[\"deporte\"]\n",
    "#df.shape\n",
    "#df.describe()\n",
    "##df.values\n",
    "Modelo=DecisionTreeClassifier()\n",
    "Modelo.fit(inputs,outputs)\n",
    "#prediccion = Modelo.predict([[1,23],[2,31]])\n",
    "#prediccion\n",
    "joblib.dump(Modelo,\"deportes_ml.joblib\")\n"
   ]
  },
  {
   "cell_type": "code",
   "execution_count": null,
   "metadata": {},
   "outputs": [],
   "source": []
  },
  {
   "cell_type": "code",
   "execution_count": null,
   "metadata": {},
   "outputs": [],
   "source": []
  },
  {
   "cell_type": "code",
   "execution_count": null,
   "metadata": {},
   "outputs": [],
   "source": []
  }
 ],
 "metadata": {
  "kernelspec": {
   "display_name": "Python 3",
   "language": "python",
   "name": "python3"
  },
  "language_info": {
   "codemirror_mode": {
    "name": "ipython",
    "version": 3
   },
   "file_extension": ".py",
   "mimetype": "text/x-python",
   "name": "python",
   "nbconvert_exporter": "python",
   "pygments_lexer": "ipython3",
   "version": "3.7.6"
  }
 },
 "nbformat": 4,
 "nbformat_minor": 4
}
